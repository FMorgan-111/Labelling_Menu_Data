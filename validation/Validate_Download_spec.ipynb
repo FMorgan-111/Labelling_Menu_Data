{
 "cells": [
  {
   "cell_type": "code",
   "execution_count": 1,
   "metadata": {},
   "outputs": [],
   "source": [
    "import os\n",
    "import PIL.Image"
   ]
  },
  {
   "cell_type": "code",
   "execution_count": 4,
   "metadata": {},
   "outputs": [
    {
     "name": "stdout",
     "output_type": "stream",
     "text": [
      "/Users/yuyu/Fork_git/Labelling_Menu_Data/asset/downloaded_menu/1e5c2d77596660e34dc1a1cd7153d31d_edit.org.jpg-376 - 副本.jpg\n"
     ]
    },
    {
     "ename": "NameError",
     "evalue": "name 'Image' is not defined",
     "output_type": "error",
     "traceback": [
      "\u001b[0;31m---------------------------------------------------------------------------\u001b[0m",
      "\u001b[0;31mNameError\u001b[0m                                 Traceback (most recent call last)",
      "Cell \u001b[0;32mIn[4], line 6\u001b[0m\n\u001b[1;32m      2\u001b[0m \u001b[39mfor\u001b[39;00m file_number, file_entry \u001b[39min\u001b[39;00m \u001b[39menumerate\u001b[39m(os\u001b[39m.\u001b[39mscandir(image_path)):\n\u001b[1;32m      3\u001b[0m     \u001b[39m# filter out non-images first\u001b[39;00m\n\u001b[1;32m      4\u001b[0m     \u001b[39mprint\u001b[39m(file_entry\u001b[39m.\u001b[39mpath)\n\u001b[0;32m----> 6\u001b[0m     img \u001b[39m=\u001b[39m Image\u001b[39m.\u001b[39mopen(file_entry\u001b[39m.\u001b[39mpath)\n",
      "\u001b[0;31mNameError\u001b[0m: name 'Image' is not defined"
     ]
    }
   ],
   "source": [
    "image_path = '/Users/yuyu/Fork_git/Labelling_Menu_Data/asset/downloaded_menu'\n",
    "for file_number, file_entry in enumerate(os.scandir(image_path)):\n",
    "    # filter out non-images first\n",
    "    print(file_entry.path)\n",
    "\n",
    "    img = Image.open(file_entry.path)"
   ]
  },
  {
   "cell_type": "code",
   "execution_count": 2,
   "metadata": {},
   "outputs": [
    {
     "name": "stdout",
     "output_type": "stream",
     "text": [
      "<class 'NoneType'>\n"
     ]
    },
    {
     "ename": "AttributeError",
     "evalue": "'NoneType' object has no attribute 'shape'",
     "output_type": "error",
     "traceback": [
      "\u001b[1;31m---------------------------------------------------------------------------\u001b[0m",
      "\u001b[1;31mAttributeError\u001b[0m                            Traceback (most recent call last)",
      "Cell \u001b[1;32mIn[2], line 6\u001b[0m\n\u001b[0;32m      3\u001b[0m \u001b[39mprint\u001b[39m(\u001b[39mtype\u001b[39m(im))\n\u001b[0;32m      4\u001b[0m \u001b[39m# <class 'numpy.ndarray'>\u001b[39;00m\n\u001b[1;32m----> 6\u001b[0m \u001b[39mprint\u001b[39m(im\u001b[39m.\u001b[39;49mshape)\n\u001b[0;32m      7\u001b[0m \u001b[39mprint\u001b[39m(\u001b[39mtype\u001b[39m(im\u001b[39m.\u001b[39mshape))\n",
      "\u001b[1;31mAttributeError\u001b[0m: 'NoneType' object has no attribute 'shape'"
     ]
    }
   ],
   "source": [
    "\n",
    "\n",
    "for filename in os.listdir():\n",
    "    if filename.split(\".\")[-1] in [\"png\", \"jpeg\"]:\n",
    "        image = PIL.Image.open(filename)\n",
    "        if image.size == (350, 400):\n",
    "            print(filename)"
   ]
  }
 ],
 "metadata": {
  "kernelspec": {
   "display_name": "translation",
   "language": "python",
   "name": "python3"
  },
  "language_info": {
   "codemirror_mode": {
    "name": "ipython",
    "version": 3
   },
   "file_extension": ".py",
   "mimetype": "text/x-python",
   "name": "python",
   "nbconvert_exporter": "python",
   "pygments_lexer": "ipython3",
   "version": "3.9.15"
  },
  "orig_nbformat": 4,
  "vscode": {
   "interpreter": {
    "hash": "4ba7895357aaba5e4602b07922dfeab1848c90b33f44e3356d114196d25e05ed"
   }
  }
 },
 "nbformat": 4,
 "nbformat_minor": 2
}
