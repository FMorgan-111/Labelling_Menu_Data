{
 "cells": [
  {
   "cell_type": "code",
   "execution_count": 8,
   "metadata": {},
   "outputs": [],
   "source": [
    "import os\n",
    "from PIL import Image\n",
    "import uuid"
   ]
  },
  {
   "cell_type": "code",
   "execution_count": 10,
   "metadata": {},
   "outputs": [],
   "source": [
    "menu_path = os.path.abspath(\"asset/downloaded_menu\")"
   ]
  },
  {
   "cell_type": "code",
   "execution_count": 11,
   "metadata": {},
   "outputs": [
    {
     "data": {
      "text/plain": [
       "'/Users/yuyu/Fork_git/Labelling_Menu_Data/asset/downloaded_menu'"
      ]
     },
     "execution_count": 11,
     "metadata": {},
     "output_type": "execute_result"
    }
   ],
   "source": [
    "menu_path"
   ]
  },
  {
   "cell_type": "code",
   "execution_count": 15,
   "metadata": {},
   "outputs": [
    {
     "name": "stdout",
     "output_type": "stream",
     "text": [
      "Went wrong\n",
      "Went wrong\n",
      "Went wrong\n",
      "Went wrong\n",
      "Went wrong\n",
      "Went wrong\n",
      "Went wrong\n",
      "Went wrong\n",
      "Went wrong\n",
      "Went wrong\n",
      "Went wrong\n",
      "Went wrong\n",
      "Went wrong\n",
      "Went wrong\n",
      "Went wrong\n",
      "Went wrong\n",
      "Went wrong\n",
      "Went wrong\n",
      "Went wrong\n",
      "Went wrong\n",
      "Went wrong\n",
      "Went wrong\n",
      "Went wrong\n",
      "Went wrong\n",
      "Went wrong\n",
      "Went wrong\n",
      "Went wrong\n",
      "Went wrong\n",
      "Went wrong\n",
      "Went wrong\n",
      "Went wrong\n",
      "Went wrong\n",
      "Went wrong\n",
      "Went wrong\n",
      "Went wrong\n",
      "Went wrong\n",
      "Went wrong\n",
      "Went wrong\n",
      "Went wrong\n",
      "Went wrong\n",
      "Went wrong\n",
      "Went wrong\n",
      "Went wrong\n",
      "Went wrong\n",
      "Went wrong\n",
      "Went wrong\n",
      "Went wrong\n",
      "Went wrong\n",
      "Went wrong\n",
      "Went wrong\n",
      "Went wrong\n",
      "Went wrong\n",
      "Went wrong\n",
      "Went wrong\n",
      "Went wrong\n",
      "Went wrong\n",
      "Went wrong\n",
      "Went wrong\n",
      "Went wrong\n",
      "Went wrong\n",
      "Went wrong\n",
      "Went wrong\n",
      "Went wrong\n",
      "Went wrong\n",
      "Went wrong\n"
     ]
    }
   ],
   "source": [
    "min_width = 550\n",
    "min_height = 750\n",
    "\n",
    "fitted = 0\n",
    "total = 0\n",
    "\n",
    "#image_path = '/Users/yuyu/Fork_git/Labelling_Menu_Data/asset/downloaded_menu'\n",
    "extensions_list = ['.jpg', '.jpeg', '.png', '.webp']\n",
    "for file_number, file_entry in enumerate(os.scandir(menu_path)):\n",
    "    file_info = os.path.splitext(file_entry.path)\n",
    "    if file_info[-1] in extensions_list:\n",
    "        total += 1\n",
    "        try:\n",
    "            img = Image.open(file_entry.path)\n",
    "            width = img.width\n",
    "            height = img.height\n",
    "            # print(file_entry.name, width, height)\n",
    "            unique_filename = str(uuid.uuid4())\n",
    "            if width > min_width and height > min_height:\n",
    "                fitted +=1\n",
    "                # img.save(\"validated/\" + unique_filename + \".jpg\")\n",
    "        except:\n",
    "            print(\"Went wrong\")"
   ]
  },
  {
   "cell_type": "code",
   "execution_count": 16,
   "metadata": {},
   "outputs": [
    {
     "name": "stdout",
     "output_type": "stream",
     "text": [
      "0 out of total 65\n"
     ]
    }
   ],
   "source": [
    "print(f'{fitted} out of total {total}')"
   ]
  },
  {
   "cell_type": "code",
   "execution_count": null,
   "metadata": {},
   "outputs": [
    {
     "ename": "",
     "evalue": "",
     "output_type": "error",
     "traceback": [
      "\u001b[1;31mFailed to start the Kernel. \n",
      "\u001b[1;31mUnhandled error. \n",
      "\u001b[1;31mView Jupyter <a href='command:jupyter.viewOutput'>log</a> for further details."
     ]
    }
   ],
   "source": [
    "\n",
    "\n",
    "for filename in os.listdir():\n",
    "    if filename.split(\".\")[-1] in [\"png\", \"jpeg\"]:\n",
    "        image = PIL.Image.open(filename)\n",
    "        if image.size == (350, 400):\n",
    "            print(filename)"
   ]
  }
 ],
 "metadata": {
  "kernelspec": {
   "display_name": "translation",
   "language": "python",
   "name": "python3"
  },
  "language_info": {
   "codemirror_mode": {
    "name": "ipython",
    "version": 3
   },
   "file_extension": ".py",
   "mimetype": "text/x-python",
   "name": "python",
   "nbconvert_exporter": "python",
   "pygments_lexer": "ipython3",
   "version": "3.9.15"
  },
  "orig_nbformat": 4,
  "vscode": {
   "interpreter": {
    "hash": "4ba7895357aaba5e4602b07922dfeab1848c90b33f44e3356d114196d25e05ed"
   }
  }
 },
 "nbformat": 4,
 "nbformat_minor": 2
}
